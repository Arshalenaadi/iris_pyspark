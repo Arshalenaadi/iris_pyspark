{
 "cells": [
  {
   "cell_type": "code",
   "execution_count": 1,
   "id": "57154436",
   "metadata": {},
   "outputs": [
    {
     "name": "stdout",
     "output_type": "stream",
     "text": [
      "Requirement already satisfied: pyspark in c:\\users\\chinnu\\anaconda3\\lib\\site-packages (3.3.0)\n",
      "Requirement already satisfied: py4j==0.10.9.5 in c:\\users\\chinnu\\anaconda3\\lib\\site-packages (from pyspark) (0.10.9.5)\n"
     ]
    }
   ],
   "source": [
    "!pip install pyspark"
   ]
  },
  {
   "cell_type": "code",
   "execution_count": 2,
   "id": "80e2ff28",
   "metadata": {},
   "outputs": [],
   "source": [
    "import pyspark"
   ]
  },
  {
   "cell_type": "code",
   "execution_count": 3,
   "id": "9df96931",
   "metadata": {},
   "outputs": [],
   "source": [
    "import pandas as pd\n",
    "import json"
   ]
  },
  {
   "cell_type": "code",
   "execution_count": 4,
   "id": "e4ddddaf",
   "metadata": {},
   "outputs": [
    {
     "data": {
      "text/html": [
       "<div>\n",
       "<style scoped>\n",
       "    .dataframe tbody tr th:only-of-type {\n",
       "        vertical-align: middle;\n",
       "    }\n",
       "\n",
       "    .dataframe tbody tr th {\n",
       "        vertical-align: top;\n",
       "    }\n",
       "\n",
       "    .dataframe thead th {\n",
       "        text-align: right;\n",
       "    }\n",
       "</style>\n",
       "<table border=\"1\" class=\"dataframe\">\n",
       "  <thead>\n",
       "    <tr style=\"text-align: right;\">\n",
       "      <th></th>\n",
       "      <th>sepal_length</th>\n",
       "      <th>sepal_width</th>\n",
       "      <th>petal_length</th>\n",
       "      <th>petal_width</th>\n",
       "      <th>species</th>\n",
       "    </tr>\n",
       "  </thead>\n",
       "  <tbody>\n",
       "    <tr>\n",
       "      <th>0</th>\n",
       "      <td>5.1</td>\n",
       "      <td>3.5</td>\n",
       "      <td>1.4</td>\n",
       "      <td>0.2</td>\n",
       "      <td>Iris-setosa</td>\n",
       "    </tr>\n",
       "    <tr>\n",
       "      <th>1</th>\n",
       "      <td>4.9</td>\n",
       "      <td>3.0</td>\n",
       "      <td>1.4</td>\n",
       "      <td>0.2</td>\n",
       "      <td>Iris-setosa</td>\n",
       "    </tr>\n",
       "    <tr>\n",
       "      <th>2</th>\n",
       "      <td>4.7</td>\n",
       "      <td>3.2</td>\n",
       "      <td>1.3</td>\n",
       "      <td>0.2</td>\n",
       "      <td>Iris-setosa</td>\n",
       "    </tr>\n",
       "    <tr>\n",
       "      <th>3</th>\n",
       "      <td>4.6</td>\n",
       "      <td>3.1</td>\n",
       "      <td>1.5</td>\n",
       "      <td>0.2</td>\n",
       "      <td>Iris-setosa</td>\n",
       "    </tr>\n",
       "    <tr>\n",
       "      <th>4</th>\n",
       "      <td>5.0</td>\n",
       "      <td>3.6</td>\n",
       "      <td>1.4</td>\n",
       "      <td>0.2</td>\n",
       "      <td>Iris-setosa</td>\n",
       "    </tr>\n",
       "    <tr>\n",
       "      <th>...</th>\n",
       "      <td>...</td>\n",
       "      <td>...</td>\n",
       "      <td>...</td>\n",
       "      <td>...</td>\n",
       "      <td>...</td>\n",
       "    </tr>\n",
       "    <tr>\n",
       "      <th>145</th>\n",
       "      <td>6.7</td>\n",
       "      <td>3.0</td>\n",
       "      <td>5.2</td>\n",
       "      <td>2.3</td>\n",
       "      <td>Iris-virginica</td>\n",
       "    </tr>\n",
       "    <tr>\n",
       "      <th>146</th>\n",
       "      <td>6.3</td>\n",
       "      <td>2.5</td>\n",
       "      <td>5.0</td>\n",
       "      <td>1.9</td>\n",
       "      <td>Iris-virginica</td>\n",
       "    </tr>\n",
       "    <tr>\n",
       "      <th>147</th>\n",
       "      <td>6.5</td>\n",
       "      <td>3.0</td>\n",
       "      <td>5.2</td>\n",
       "      <td>2.0</td>\n",
       "      <td>Iris-virginica</td>\n",
       "    </tr>\n",
       "    <tr>\n",
       "      <th>148</th>\n",
       "      <td>6.2</td>\n",
       "      <td>3.4</td>\n",
       "      <td>5.4</td>\n",
       "      <td>2.3</td>\n",
       "      <td>Iris-virginica</td>\n",
       "    </tr>\n",
       "    <tr>\n",
       "      <th>149</th>\n",
       "      <td>5.9</td>\n",
       "      <td>3.0</td>\n",
       "      <td>5.1</td>\n",
       "      <td>1.8</td>\n",
       "      <td>Iris-virginica</td>\n",
       "    </tr>\n",
       "  </tbody>\n",
       "</table>\n",
       "<p>150 rows × 5 columns</p>\n",
       "</div>"
      ],
      "text/plain": [
       "     sepal_length  sepal_width  petal_length  petal_width         species\n",
       "0             5.1          3.5           1.4          0.2     Iris-setosa\n",
       "1             4.9          3.0           1.4          0.2     Iris-setosa\n",
       "2             4.7          3.2           1.3          0.2     Iris-setosa\n",
       "3             4.6          3.1           1.5          0.2     Iris-setosa\n",
       "4             5.0          3.6           1.4          0.2     Iris-setosa\n",
       "..            ...          ...           ...          ...             ...\n",
       "145           6.7          3.0           5.2          2.3  Iris-virginica\n",
       "146           6.3          2.5           5.0          1.9  Iris-virginica\n",
       "147           6.5          3.0           5.2          2.0  Iris-virginica\n",
       "148           6.2          3.4           5.4          2.3  Iris-virginica\n",
       "149           5.9          3.0           5.1          1.8  Iris-virginica\n",
       "\n",
       "[150 rows x 5 columns]"
      ]
     },
     "execution_count": 4,
     "metadata": {},
     "output_type": "execute_result"
    }
   ],
   "source": [
    "pd.read_csv(r\"C:\\Users\\Chinnu\\Downloads\\DS_Assignment - internship\\Screening Test - DS\\iris.csv\")"
   ]
  },
  {
   "cell_type": "code",
   "execution_count": 5,
   "id": "e462f115",
   "metadata": {},
   "outputs": [],
   "source": [
    "from pyspark.sql import SparkSession"
   ]
  },
  {
   "cell_type": "code",
   "execution_count": null,
   "id": "b55462c3",
   "metadata": {},
   "outputs": [],
   "source": []
  },
  {
   "cell_type": "code",
   "execution_count": 6,
   "id": "07dc1866",
   "metadata": {},
   "outputs": [],
   "source": [
    "spark=SparkSession.builder.appName('Iris').getOrCreate()"
   ]
  },
  {
   "cell_type": "code",
   "execution_count": 7,
   "id": "68537653",
   "metadata": {},
   "outputs": [
    {
     "data": {
      "text/html": [
       "\n",
       "            <div>\n",
       "                <p><b>SparkSession - in-memory</b></p>\n",
       "                \n",
       "        <div>\n",
       "            <p><b>SparkContext</b></p>\n",
       "\n",
       "            <p><a href=\"http://LAPTOP-22G1PPC8:4040\">Spark UI</a></p>\n",
       "\n",
       "            <dl>\n",
       "              <dt>Version</dt>\n",
       "                <dd><code>v3.3.0</code></dd>\n",
       "              <dt>Master</dt>\n",
       "                <dd><code>local[*]</code></dd>\n",
       "              <dt>AppName</dt>\n",
       "                <dd><code>Iris</code></dd>\n",
       "            </dl>\n",
       "        </div>\n",
       "        \n",
       "            </div>\n",
       "        "
      ],
      "text/plain": [
       "<pyspark.sql.session.SparkSession at 0x1b0ac17cc10>"
      ]
     },
     "execution_count": 7,
     "metadata": {},
     "output_type": "execute_result"
    }
   ],
   "source": [
    "spark"
   ]
  },
  {
   "cell_type": "code",
   "execution_count": 8,
   "id": "16bd574e",
   "metadata": {},
   "outputs": [],
   "source": [
    "#importing the dataset\n",
    "df=spark.read.csv((r\"C:\\Users\\Chinnu\\Downloads\\DS_Assignment - internship\\Screening Test - DS\\iris.csv\"),header=True,inferSchema=True)"
   ]
  },
  {
   "cell_type": "code",
   "execution_count": null,
   "id": "8a74c021",
   "metadata": {},
   "outputs": [],
   "source": []
  },
  {
   "cell_type": "markdown",
   "id": "4dde79a0",
   "metadata": {},
   "source": [
    "\n",
    "df = spark.read.json(r\"C:\\Users\\Chinnu\\Downloads\\DS_Assignment - internship\\Screening Test - DS\\algoparams_from_ui.json.rtf\", multiLine=True)"
   ]
  },
  {
   "cell_type": "markdown",
   "id": "3903f864",
   "metadata": {},
   "source": [
    "df.printSchema()"
   ]
  },
  {
   "cell_type": "markdown",
   "id": "1a4c74fb",
   "metadata": {},
   "source": [
    "df.write.format(\"csv\").option(\"header\", \"true\").save(r\"C:\\Users\\Chinnu\\Downloads\\DS_Assignment - internship\\Screening Test - DS\\convertedfile1.csv\")"
   ]
  },
  {
   "cell_type": "code",
   "execution_count": 9,
   "id": "69645d7b",
   "metadata": {},
   "outputs": [
    {
     "name": "stdout",
     "output_type": "stream",
     "text": [
      "+------------+-----------+------------+-----------+-----------+\n",
      "|sepal_length|sepal_width|petal_length|petal_width|    species|\n",
      "+------------+-----------+------------+-----------+-----------+\n",
      "|         5.1|        3.5|         1.4|        0.2|Iris-setosa|\n",
      "|         4.9|        3.0|         1.4|        0.2|Iris-setosa|\n",
      "|         4.7|        3.2|         1.3|        0.2|Iris-setosa|\n",
      "|         4.6|        3.1|         1.5|        0.2|Iris-setosa|\n",
      "|         5.0|        3.6|         1.4|        0.2|Iris-setosa|\n",
      "+------------+-----------+------------+-----------+-----------+\n",
      "only showing top 5 rows\n",
      "\n"
     ]
    }
   ],
   "source": [
    "df.show(5)# top 5 rows"
   ]
  },
  {
   "cell_type": "code",
   "execution_count": null,
   "id": "161e52be",
   "metadata": {},
   "outputs": [],
   "source": []
  },
  {
   "cell_type": "code",
   "execution_count": 10,
   "id": "8072edca",
   "metadata": {},
   "outputs": [
    {
     "name": "stdout",
     "output_type": "stream",
     "text": [
      "root\n",
      " |-- sepal_length: double (nullable = true)\n",
      " |-- sepal_width: double (nullable = true)\n",
      " |-- petal_length: double (nullable = true)\n",
      " |-- petal_width: double (nullable = true)\n",
      " |-- species: string (nullable = true)\n",
      "\n"
     ]
    }
   ],
   "source": [
    "df.printSchema()# to check the attributes"
   ]
  },
  {
   "cell_type": "code",
   "execution_count": 11,
   "id": "08754496",
   "metadata": {},
   "outputs": [
    {
     "data": {
      "text/plain": [
       "['sepal_length', 'sepal_width', 'petal_length', 'petal_width', 'species']"
      ]
     },
     "execution_count": 11,
     "metadata": {},
     "output_type": "execute_result"
    }
   ],
   "source": [
    "df.columns # column names in the csv dataset"
   ]
  },
  {
   "cell_type": "code",
   "execution_count": 12,
   "id": "4845bbb2",
   "metadata": {},
   "outputs": [
    {
     "data": {
      "text/plain": [
       "[('sepal_length', 'double'),\n",
       " ('sepal_width', 'double'),\n",
       " ('petal_length', 'double'),\n",
       " ('petal_width', 'double'),\n",
       " ('species', 'string')]"
      ]
     },
     "execution_count": 12,
     "metadata": {},
     "output_type": "execute_result"
    }
   ],
   "source": [
    "df.dtypes # types of the columns"
   ]
  },
  {
   "cell_type": "code",
   "execution_count": 13,
   "id": "ade20fa0",
   "metadata": {},
   "outputs": [
    {
     "name": "stdout",
     "output_type": "stream",
     "text": [
      "+-------+------------------+-------------------+------------------+------------------+--------------+\n",
      "|summary|      sepal_length|        sepal_width|      petal_length|       petal_width|       species|\n",
      "+-------+------------------+-------------------+------------------+------------------+--------------+\n",
      "|  count|               150|                150|               150|               150|           150|\n",
      "|   mean| 5.843333333333335| 3.0540000000000007|3.7586666666666693|1.1986666666666672|          null|\n",
      "| stddev|0.8280661279778637|0.43359431136217375| 1.764420419952262|0.7631607417008414|          null|\n",
      "|    min|               4.3|                2.0|               1.0|               0.1|   Iris-setosa|\n",
      "|    max|               7.9|                4.4|               6.9|               2.5|Iris-virginica|\n",
      "+-------+------------------+-------------------+------------------+------------------+--------------+\n",
      "\n"
     ]
    }
   ],
   "source": [
    "df.describe().show()# shows the statistical information"
   ]
  },
  {
   "cell_type": "code",
   "execution_count": 14,
   "id": "83466d19",
   "metadata": {},
   "outputs": [
    {
     "name": "stdout",
     "output_type": "stream",
     "text": [
      "+------------+-----------+------------+-----------+-----------+\n",
      "|sepal_length|sepal_width|petal_length|petal_width|    species|\n",
      "+------------+-----------+------------+-----------+-----------+\n",
      "|         5.1|        3.5|         1.4|        0.2|Iris-setosa|\n",
      "|         4.9|        3.0|         1.4|        0.2|Iris-setosa|\n",
      "|         4.7|        3.2|         1.3|        0.2|Iris-setosa|\n",
      "|         4.6|        3.1|         1.5|        0.2|Iris-setosa|\n",
      "|         5.0|        3.6|         1.4|        0.2|Iris-setosa|\n",
      "|         5.4|        3.9|         1.7|        0.4|Iris-setosa|\n",
      "|         4.6|        3.4|         1.4|        0.3|Iris-setosa|\n",
      "|         5.0|        3.4|         1.5|        0.2|Iris-setosa|\n",
      "|         4.4|        2.9|         1.4|        0.2|Iris-setosa|\n",
      "|         4.9|        3.1|         1.5|        0.1|Iris-setosa|\n",
      "|         5.4|        3.7|         1.5|        0.2|Iris-setosa|\n",
      "|         4.8|        3.4|         1.6|        0.2|Iris-setosa|\n",
      "|         4.8|        3.0|         1.4|        0.1|Iris-setosa|\n",
      "|         4.3|        3.0|         1.1|        0.1|Iris-setosa|\n",
      "|         5.8|        4.0|         1.2|        0.2|Iris-setosa|\n",
      "|         5.7|        4.4|         1.5|        0.4|Iris-setosa|\n",
      "|         5.4|        3.9|         1.3|        0.4|Iris-setosa|\n",
      "|         5.1|        3.5|         1.4|        0.3|Iris-setosa|\n",
      "|         5.7|        3.8|         1.7|        0.3|Iris-setosa|\n",
      "|         5.1|        3.8|         1.5|        0.3|Iris-setosa|\n",
      "+------------+-----------+------------+-----------+-----------+\n",
      "only showing top 20 rows\n",
      "\n"
     ]
    }
   ],
   "source": [
    "df.show()"
   ]
  },
  {
   "cell_type": "code",
   "execution_count": 15,
   "id": "e21d43d5",
   "metadata": {},
   "outputs": [],
   "source": [
    "#to find null values\n",
    "from pyspark.sql.functions import isnull"
   ]
  },
  {
   "cell_type": "code",
   "execution_count": 16,
   "id": "7a0340e7",
   "metadata": {},
   "outputs": [],
   "source": [
    "null_counts = [df.filter(df[column].isNull()).count() for column in df.columns]"
   ]
  },
  {
   "cell_type": "code",
   "execution_count": 17,
   "id": "69fca630",
   "metadata": {},
   "outputs": [
    {
     "name": "stdout",
     "output_type": "stream",
     "text": [
      "Number of missing values in each column:\n",
      "sepal_length: 0\n",
      "sepal_width: 0\n",
      "petal_length: 0\n",
      "petal_width: 0\n",
      "species: 0\n"
     ]
    }
   ],
   "source": [
    "print(\"Number of missing values in each column:\")\n",
    "for column, count in zip(df.columns, null_counts):\n",
    "    print(f\"{column}: {count}\")\n"
   ]
  },
  {
   "cell_type": "markdown",
   "id": "8fbcc8c3",
   "metadata": {},
   "source": [
    "This dataset has no null values"
   ]
  },
  {
   "cell_type": "code",
   "execution_count": 18,
   "id": "ac5eaeba",
   "metadata": {},
   "outputs": [
    {
     "name": "stdout",
     "output_type": "stream",
     "text": [
      "+----------------------+\n",
      "|(sepal_length IS NULL)|\n",
      "+----------------------+\n",
      "|                 false|\n",
      "|                 false|\n",
      "|                 false|\n",
      "|                 false|\n",
      "|                 false|\n",
      "|                 false|\n",
      "|                 false|\n",
      "|                 false|\n",
      "|                 false|\n",
      "|                 false|\n",
      "|                 false|\n",
      "|                 false|\n",
      "|                 false|\n",
      "|                 false|\n",
      "|                 false|\n",
      "|                 false|\n",
      "|                 false|\n",
      "|                 false|\n",
      "|                 false|\n",
      "|                 false|\n",
      "+----------------------+\n",
      "only showing top 20 rows\n",
      "\n"
     ]
    }
   ],
   "source": [
    "df.select(isnull(df.sepal_length)).show()"
   ]
  },
  {
   "cell_type": "markdown",
   "id": "f496c3f9",
   "metadata": {},
   "source": [
    "This dataset has no null values"
   ]
  },
  {
   "cell_type": "code",
   "execution_count": 19,
   "id": "db44b2f7",
   "metadata": {},
   "outputs": [
    {
     "data": {
      "text/plain": [
       "['sepal_length', 'sepal_width', 'petal_length', 'petal_width', 'species']"
      ]
     },
     "execution_count": 19,
     "metadata": {},
     "output_type": "execute_result"
    }
   ],
   "source": [
    "df.columns "
   ]
  },
  {
   "cell_type": "code",
   "execution_count": 20,
   "id": "44feaa10",
   "metadata": {},
   "outputs": [],
   "source": [
    "# fill by imputation\n",
    "from pyspark .ml.feature import Imputer"
   ]
  },
  {
   "cell_type": "code",
   "execution_count": 21,
   "id": "b0aced59",
   "metadata": {},
   "outputs": [],
   "source": [
    "imputer = Imputer(\n",
    "    inputCols=['sepal_length', 'sepal_width', 'petal_length'], \n",
    "    outputCols=[\"{}_imputed\".format(c) for c in ['sepal_length', 'sepal_width', 'petal_length']]\n",
    "    ).setStrategy(\"mean\")"
   ]
  },
  {
   "cell_type": "code",
   "execution_count": 22,
   "id": "015b1333",
   "metadata": {},
   "outputs": [
    {
     "name": "stdout",
     "output_type": "stream",
     "text": [
      "+------------+-----------+------------+-----------+-----------+--------------------+-------------------+--------------------+\n",
      "|sepal_length|sepal_width|petal_length|petal_width|    species|sepal_length_imputed|sepal_width_imputed|petal_length_imputed|\n",
      "+------------+-----------+------------+-----------+-----------+--------------------+-------------------+--------------------+\n",
      "|         5.1|        3.5|         1.4|        0.2|Iris-setosa|                 5.1|                3.5|                 1.4|\n",
      "|         4.9|        3.0|         1.4|        0.2|Iris-setosa|                 4.9|                3.0|                 1.4|\n",
      "|         4.7|        3.2|         1.3|        0.2|Iris-setosa|                 4.7|                3.2|                 1.3|\n",
      "|         4.6|        3.1|         1.5|        0.2|Iris-setosa|                 4.6|                3.1|                 1.5|\n",
      "|         5.0|        3.6|         1.4|        0.2|Iris-setosa|                 5.0|                3.6|                 1.4|\n",
      "|         5.4|        3.9|         1.7|        0.4|Iris-setosa|                 5.4|                3.9|                 1.7|\n",
      "|         4.6|        3.4|         1.4|        0.3|Iris-setosa|                 4.6|                3.4|                 1.4|\n",
      "|         5.0|        3.4|         1.5|        0.2|Iris-setosa|                 5.0|                3.4|                 1.5|\n",
      "|         4.4|        2.9|         1.4|        0.2|Iris-setosa|                 4.4|                2.9|                 1.4|\n",
      "|         4.9|        3.1|         1.5|        0.1|Iris-setosa|                 4.9|                3.1|                 1.5|\n",
      "|         5.4|        3.7|         1.5|        0.2|Iris-setosa|                 5.4|                3.7|                 1.5|\n",
      "|         4.8|        3.4|         1.6|        0.2|Iris-setosa|                 4.8|                3.4|                 1.6|\n",
      "|         4.8|        3.0|         1.4|        0.1|Iris-setosa|                 4.8|                3.0|                 1.4|\n",
      "|         4.3|        3.0|         1.1|        0.1|Iris-setosa|                 4.3|                3.0|                 1.1|\n",
      "|         5.8|        4.0|         1.2|        0.2|Iris-setosa|                 5.8|                4.0|                 1.2|\n",
      "|         5.7|        4.4|         1.5|        0.4|Iris-setosa|                 5.7|                4.4|                 1.5|\n",
      "|         5.4|        3.9|         1.3|        0.4|Iris-setosa|                 5.4|                3.9|                 1.3|\n",
      "|         5.1|        3.5|         1.4|        0.3|Iris-setosa|                 5.1|                3.5|                 1.4|\n",
      "|         5.7|        3.8|         1.7|        0.3|Iris-setosa|                 5.7|                3.8|                 1.7|\n",
      "|         5.1|        3.8|         1.5|        0.3|Iris-setosa|                 5.1|                3.8|                 1.5|\n",
      "+------------+-----------+------------+-----------+-----------+--------------------+-------------------+--------------------+\n",
      "only showing top 20 rows\n",
      "\n"
     ]
    }
   ],
   "source": [
    "#adding imputation columns to df\n",
    "imputer.fit(df).transform(df).show()"
   ]
  },
  {
   "cell_type": "code",
   "execution_count": 23,
   "id": "81a358f3",
   "metadata": {},
   "outputs": [],
   "source": [
    "#preprocessing\n",
    "from pyspark.ml.feature import StringIndexer# to convert categorical into numerical\n",
    "indexer=StringIndexer(inputCol=\"species\",outputCol=\"species_Index\")"
   ]
  },
  {
   "cell_type": "code",
   "execution_count": 24,
   "id": "8d27ef2f",
   "metadata": {},
   "outputs": [],
   "source": [
    "df_data=indexer.fit(df).transform(df)"
   ]
  },
  {
   "cell_type": "code",
   "execution_count": 25,
   "id": "fe0aa53f",
   "metadata": {},
   "outputs": [
    {
     "name": "stdout",
     "output_type": "stream",
     "text": [
      "+------------+-----------+------------+-----------+-----------+-------------+\n",
      "|sepal_length|sepal_width|petal_length|petal_width|    species|species_Index|\n",
      "+------------+-----------+------------+-----------+-----------+-------------+\n",
      "|         5.1|        3.5|         1.4|        0.2|Iris-setosa|          0.0|\n",
      "|         4.9|        3.0|         1.4|        0.2|Iris-setosa|          0.0|\n",
      "|         4.7|        3.2|         1.3|        0.2|Iris-setosa|          0.0|\n",
      "|         4.6|        3.1|         1.5|        0.2|Iris-setosa|          0.0|\n",
      "|         5.0|        3.6|         1.4|        0.2|Iris-setosa|          0.0|\n",
      "|         5.4|        3.9|         1.7|        0.4|Iris-setosa|          0.0|\n",
      "|         4.6|        3.4|         1.4|        0.3|Iris-setosa|          0.0|\n",
      "|         5.0|        3.4|         1.5|        0.2|Iris-setosa|          0.0|\n",
      "|         4.4|        2.9|         1.4|        0.2|Iris-setosa|          0.0|\n",
      "|         4.9|        3.1|         1.5|        0.1|Iris-setosa|          0.0|\n",
      "|         5.4|        3.7|         1.5|        0.2|Iris-setosa|          0.0|\n",
      "|         4.8|        3.4|         1.6|        0.2|Iris-setosa|          0.0|\n",
      "|         4.8|        3.0|         1.4|        0.1|Iris-setosa|          0.0|\n",
      "|         4.3|        3.0|         1.1|        0.1|Iris-setosa|          0.0|\n",
      "|         5.8|        4.0|         1.2|        0.2|Iris-setosa|          0.0|\n",
      "|         5.7|        4.4|         1.5|        0.4|Iris-setosa|          0.0|\n",
      "|         5.4|        3.9|         1.3|        0.4|Iris-setosa|          0.0|\n",
      "|         5.1|        3.5|         1.4|        0.3|Iris-setosa|          0.0|\n",
      "|         5.7|        3.8|         1.7|        0.3|Iris-setosa|          0.0|\n",
      "|         5.1|        3.8|         1.5|        0.3|Iris-setosa|          0.0|\n",
      "+------------+-----------+------------+-----------+-----------+-------------+\n",
      "only showing top 20 rows\n",
      "\n"
     ]
    }
   ],
   "source": [
    "df_data.show()"
   ]
  },
  {
   "cell_type": "code",
   "execution_count": 26,
   "id": "73ae9b6a",
   "metadata": {},
   "outputs": [
    {
     "data": {
      "text/plain": [
       "147"
      ]
     },
     "execution_count": 26,
     "metadata": {},
     "output_type": "execute_result"
    }
   ],
   "source": [
    "df_data.distinct().count()# total no. of rows"
   ]
  },
  {
   "cell_type": "code",
   "execution_count": 27,
   "id": "82adc2bc",
   "metadata": {},
   "outputs": [],
   "source": [
    "a = df_data.select(['species','species_Index']).distinct()"
   ]
  },
  {
   "cell_type": "code",
   "execution_count": 28,
   "id": "e73d7864",
   "metadata": {},
   "outputs": [
    {
     "name": "stdout",
     "output_type": "stream",
     "text": [
      "+---------------+-------------+\n",
      "|        species|species_Index|\n",
      "+---------------+-------------+\n",
      "|    Iris-setosa|          0.0|\n",
      "| Iris-virginica|          2.0|\n",
      "|Iris-versicolor|          1.0|\n",
      "+---------------+-------------+\n",
      "\n"
     ]
    }
   ],
   "source": [
    "a.show()"
   ]
  },
  {
   "cell_type": "markdown",
   "id": "343d3930",
   "metadata": {},
   "source": [
    "Three varities of Iris label encoded to 0,1,2"
   ]
  },
  {
   "cell_type": "code",
   "execution_count": 29,
   "id": "d3516a26",
   "metadata": {},
   "outputs": [
    {
     "data": {
      "text/plain": [
       "0.8179536333691642"
      ]
     },
     "execution_count": 29,
     "metadata": {},
     "output_type": "execute_result"
    }
   ],
   "source": [
    "#correlation between attributes\n",
    "from pyspark.ml.stat import Correlation\n",
    "\n",
    "df.corr(\"sepal_length\",'petal_width')"
   ]
  },
  {
   "cell_type": "code",
   "execution_count": 30,
   "id": "72505b46",
   "metadata": {},
   "outputs": [
    {
     "data": {
      "text/plain": [
       "-0.35654408961380507"
      ]
     },
     "execution_count": 30,
     "metadata": {},
     "output_type": "execute_result"
    }
   ],
   "source": [
    "df.corr(\"sepal_width\",'petal_width')"
   ]
  },
  {
   "cell_type": "code",
   "execution_count": 31,
   "id": "5c1e89ab",
   "metadata": {},
   "outputs": [
    {
     "data": {
      "text/plain": [
       "0.9627570970509666"
      ]
     },
     "execution_count": 31,
     "metadata": {},
     "output_type": "execute_result"
    }
   ],
   "source": [
    "df.corr(\"petal_length\",'petal_width')"
   ]
  },
  {
   "cell_type": "code",
   "execution_count": 32,
   "id": "dee148bf",
   "metadata": {},
   "outputs": [
    {
     "data": {
      "text/plain": [
       "1.0"
      ]
     },
     "execution_count": 32,
     "metadata": {},
     "output_type": "execute_result"
    }
   ],
   "source": [
    "df.corr(\"petal_width\",'petal_width')"
   ]
  },
  {
   "cell_type": "code",
   "execution_count": 33,
   "id": "32ecb12f",
   "metadata": {},
   "outputs": [
    {
     "name": "stdout",
     "output_type": "stream",
     "text": [
      "+------------+-----------+------------+-----------+-----------+-------------+-----------------+\n",
      "|sepal_length|sepal_width|petal_length|petal_width|    species|species_Index|       indep_feat|\n",
      "+------------+-----------+------------+-----------+-----------+-------------+-----------------+\n",
      "|         5.1|        3.5|         1.4|        0.2|Iris-setosa|          0.0|[5.1,3.5,1.4,0.0]|\n",
      "|         4.9|        3.0|         1.4|        0.2|Iris-setosa|          0.0|[4.9,3.0,1.4,0.0]|\n",
      "|         4.7|        3.2|         1.3|        0.2|Iris-setosa|          0.0|[4.7,3.2,1.3,0.0]|\n",
      "|         4.6|        3.1|         1.5|        0.2|Iris-setosa|          0.0|[4.6,3.1,1.5,0.0]|\n",
      "|         5.0|        3.6|         1.4|        0.2|Iris-setosa|          0.0|[5.0,3.6,1.4,0.0]|\n",
      "|         5.4|        3.9|         1.7|        0.4|Iris-setosa|          0.0|[5.4,3.9,1.7,0.0]|\n",
      "|         4.6|        3.4|         1.4|        0.3|Iris-setosa|          0.0|[4.6,3.4,1.4,0.0]|\n",
      "|         5.0|        3.4|         1.5|        0.2|Iris-setosa|          0.0|[5.0,3.4,1.5,0.0]|\n",
      "|         4.4|        2.9|         1.4|        0.2|Iris-setosa|          0.0|[4.4,2.9,1.4,0.0]|\n",
      "|         4.9|        3.1|         1.5|        0.1|Iris-setosa|          0.0|[4.9,3.1,1.5,0.0]|\n",
      "|         5.4|        3.7|         1.5|        0.2|Iris-setosa|          0.0|[5.4,3.7,1.5,0.0]|\n",
      "|         4.8|        3.4|         1.6|        0.2|Iris-setosa|          0.0|[4.8,3.4,1.6,0.0]|\n",
      "|         4.8|        3.0|         1.4|        0.1|Iris-setosa|          0.0|[4.8,3.0,1.4,0.0]|\n",
      "|         4.3|        3.0|         1.1|        0.1|Iris-setosa|          0.0|[4.3,3.0,1.1,0.0]|\n",
      "|         5.8|        4.0|         1.2|        0.2|Iris-setosa|          0.0|[5.8,4.0,1.2,0.0]|\n",
      "|         5.7|        4.4|         1.5|        0.4|Iris-setosa|          0.0|[5.7,4.4,1.5,0.0]|\n",
      "|         5.4|        3.9|         1.3|        0.4|Iris-setosa|          0.0|[5.4,3.9,1.3,0.0]|\n",
      "|         5.1|        3.5|         1.4|        0.3|Iris-setosa|          0.0|[5.1,3.5,1.4,0.0]|\n",
      "|         5.7|        3.8|         1.7|        0.3|Iris-setosa|          0.0|[5.7,3.8,1.7,0.0]|\n",
      "|         5.1|        3.8|         1.5|        0.3|Iris-setosa|          0.0|[5.1,3.8,1.5,0.0]|\n",
      "+------------+-----------+------------+-----------+-----------+-------------+-----------------+\n",
      "only showing top 20 rows\n",
      "\n"
     ]
    }
   ],
   "source": [
    "# converting to vector assemblers\n",
    "from pyspark.ml.feature import VectorAssembler\n",
    "featureassembler=VectorAssembler(inputCols=['sepal_length', 'sepal_width', 'petal_length',\n",
    "                                          'species_Index' ],outputCol='indep_feat')\n",
    "output=featureassembler.transform(df_data)\n",
    "output.show()"
   ]
  },
  {
   "cell_type": "code",
   "execution_count": 34,
   "id": "d1ee47f0",
   "metadata": {},
   "outputs": [
    {
     "name": "stdout",
     "output_type": "stream",
     "text": [
      "+-----------------+\n",
      "|       indep_feat|\n",
      "+-----------------+\n",
      "|[5.1,3.5,1.4,0.0]|\n",
      "|[4.9,3.0,1.4,0.0]|\n",
      "|[4.7,3.2,1.3,0.0]|\n",
      "|[4.6,3.1,1.5,0.0]|\n",
      "|[5.0,3.6,1.4,0.0]|\n",
      "|[5.4,3.9,1.7,0.0]|\n",
      "|[4.6,3.4,1.4,0.0]|\n",
      "|[5.0,3.4,1.5,0.0]|\n",
      "|[4.4,2.9,1.4,0.0]|\n",
      "|[4.9,3.1,1.5,0.0]|\n",
      "|[5.4,3.7,1.5,0.0]|\n",
      "|[4.8,3.4,1.6,0.0]|\n",
      "|[4.8,3.0,1.4,0.0]|\n",
      "|[4.3,3.0,1.1,0.0]|\n",
      "|[5.8,4.0,1.2,0.0]|\n",
      "|[5.7,4.4,1.5,0.0]|\n",
      "|[5.4,3.9,1.3,0.0]|\n",
      "|[5.1,3.5,1.4,0.0]|\n",
      "|[5.7,3.8,1.7,0.0]|\n",
      "|[5.1,3.8,1.5,0.0]|\n",
      "+-----------------+\n",
      "only showing top 20 rows\n",
      "\n"
     ]
    }
   ],
   "source": [
    "output.select('indep_feat').show()"
   ]
  },
  {
   "cell_type": "code",
   "execution_count": 35,
   "id": "514e661a",
   "metadata": {},
   "outputs": [
    {
     "name": "stdout",
     "output_type": "stream",
     "text": [
      "+------------+-----------+------------+-----------+-----------+-------------+-----------------+\n",
      "|sepal_length|sepal_width|petal_length|petal_width|    species|species_Index|       indep_feat|\n",
      "+------------+-----------+------------+-----------+-----------+-------------+-----------------+\n",
      "|         5.1|        3.5|         1.4|        0.2|Iris-setosa|          0.0|[5.1,3.5,1.4,0.0]|\n",
      "|         4.9|        3.0|         1.4|        0.2|Iris-setosa|          0.0|[4.9,3.0,1.4,0.0]|\n",
      "|         4.7|        3.2|         1.3|        0.2|Iris-setosa|          0.0|[4.7,3.2,1.3,0.0]|\n",
      "|         4.6|        3.1|         1.5|        0.2|Iris-setosa|          0.0|[4.6,3.1,1.5,0.0]|\n",
      "|         5.0|        3.6|         1.4|        0.2|Iris-setosa|          0.0|[5.0,3.6,1.4,0.0]|\n",
      "|         5.4|        3.9|         1.7|        0.4|Iris-setosa|          0.0|[5.4,3.9,1.7,0.0]|\n",
      "|         4.6|        3.4|         1.4|        0.3|Iris-setosa|          0.0|[4.6,3.4,1.4,0.0]|\n",
      "|         5.0|        3.4|         1.5|        0.2|Iris-setosa|          0.0|[5.0,3.4,1.5,0.0]|\n",
      "|         4.4|        2.9|         1.4|        0.2|Iris-setosa|          0.0|[4.4,2.9,1.4,0.0]|\n",
      "|         4.9|        3.1|         1.5|        0.1|Iris-setosa|          0.0|[4.9,3.1,1.5,0.0]|\n",
      "|         5.4|        3.7|         1.5|        0.2|Iris-setosa|          0.0|[5.4,3.7,1.5,0.0]|\n",
      "|         4.8|        3.4|         1.6|        0.2|Iris-setosa|          0.0|[4.8,3.4,1.6,0.0]|\n",
      "|         4.8|        3.0|         1.4|        0.1|Iris-setosa|          0.0|[4.8,3.0,1.4,0.0]|\n",
      "|         4.3|        3.0|         1.1|        0.1|Iris-setosa|          0.0|[4.3,3.0,1.1,0.0]|\n",
      "|         5.8|        4.0|         1.2|        0.2|Iris-setosa|          0.0|[5.8,4.0,1.2,0.0]|\n",
      "|         5.7|        4.4|         1.5|        0.4|Iris-setosa|          0.0|[5.7,4.4,1.5,0.0]|\n",
      "|         5.4|        3.9|         1.3|        0.4|Iris-setosa|          0.0|[5.4,3.9,1.3,0.0]|\n",
      "|         5.1|        3.5|         1.4|        0.3|Iris-setosa|          0.0|[5.1,3.5,1.4,0.0]|\n",
      "|         5.7|        3.8|         1.7|        0.3|Iris-setosa|          0.0|[5.7,3.8,1.7,0.0]|\n",
      "|         5.1|        3.8|         1.5|        0.3|Iris-setosa|          0.0|[5.1,3.8,1.5,0.0]|\n",
      "+------------+-----------+------------+-----------+-----------+-------------+-----------------+\n",
      "only showing top 20 rows\n",
      "\n"
     ]
    }
   ],
   "source": [
    "output.show()"
   ]
  },
  {
   "cell_type": "code",
   "execution_count": 36,
   "id": "75935b9a",
   "metadata": {},
   "outputs": [],
   "source": [
    "final_data=output.select(\"indep_feat\",\"petal_width\")"
   ]
  },
  {
   "cell_type": "code",
   "execution_count": 37,
   "id": "4b1cf271",
   "metadata": {},
   "outputs": [
    {
     "name": "stdout",
     "output_type": "stream",
     "text": [
      "+-----------------+-----------+\n",
      "|       indep_feat|petal_width|\n",
      "+-----------------+-----------+\n",
      "|[5.1,3.5,1.4,0.0]|        0.2|\n",
      "|[4.9,3.0,1.4,0.0]|        0.2|\n",
      "|[4.7,3.2,1.3,0.0]|        0.2|\n",
      "|[4.6,3.1,1.5,0.0]|        0.2|\n",
      "|[5.0,3.6,1.4,0.0]|        0.2|\n",
      "|[5.4,3.9,1.7,0.0]|        0.4|\n",
      "|[4.6,3.4,1.4,0.0]|        0.3|\n",
      "|[5.0,3.4,1.5,0.0]|        0.2|\n",
      "|[4.4,2.9,1.4,0.0]|        0.2|\n",
      "|[4.9,3.1,1.5,0.0]|        0.1|\n",
      "|[5.4,3.7,1.5,0.0]|        0.2|\n",
      "|[4.8,3.4,1.6,0.0]|        0.2|\n",
      "|[4.8,3.0,1.4,0.0]|        0.1|\n",
      "|[4.3,3.0,1.1,0.0]|        0.1|\n",
      "|[5.8,4.0,1.2,0.0]|        0.2|\n",
      "|[5.7,4.4,1.5,0.0]|        0.4|\n",
      "|[5.4,3.9,1.3,0.0]|        0.4|\n",
      "|[5.1,3.5,1.4,0.0]|        0.3|\n",
      "|[5.7,3.8,1.7,0.0]|        0.3|\n",
      "|[5.1,3.8,1.5,0.0]|        0.3|\n",
      "+-----------------+-----------+\n",
      "only showing top 20 rows\n",
      "\n"
     ]
    }
   ],
   "source": [
    "final_data.show()"
   ]
  },
  {
   "cell_type": "code",
   "execution_count": 38,
   "id": "07da8e90",
   "metadata": {},
   "outputs": [],
   "source": [
    "# Linear Regression\n",
    "from pyspark.ml.regression import LinearRegression\n",
    "##train test split\n",
    "train_data,test_data=final_data.randomSplit([0.75,0.25])\n",
    "regressor=LinearRegression(featuresCol='indep_feat', labelCol='petal_width')\n",
    "regressor=regressor.fit(train_data)"
   ]
  },
  {
   "cell_type": "code",
   "execution_count": 39,
   "id": "edb14d49",
   "metadata": {},
   "outputs": [
    {
     "data": {
      "text/plain": [
       "DenseVector([-0.1041, 0.2166, 0.3185, 0.3883])"
      ]
     },
     "execution_count": 39,
     "metadata": {},
     "output_type": "execute_result"
    }
   ],
   "source": [
    "regressor.coefficients"
   ]
  },
  {
   "cell_type": "code",
   "execution_count": 40,
   "id": "ab094e57",
   "metadata": {},
   "outputs": [
    {
     "data": {
      "text/plain": [
       "-0.41878606919607897"
      ]
     },
     "execution_count": 40,
     "metadata": {},
     "output_type": "execute_result"
    }
   ],
   "source": [
    "regressor.intercept"
   ]
  },
  {
   "cell_type": "code",
   "execution_count": 41,
   "id": "91e4a783",
   "metadata": {},
   "outputs": [],
   "source": [
    "\n",
    "### Predictions\n",
    "pred_results=regressor.evaluate(test_data)"
   ]
  },
  {
   "cell_type": "code",
   "execution_count": 42,
   "id": "a7f06a85",
   "metadata": {},
   "outputs": [
    {
     "name": "stdout",
     "output_type": "stream",
     "text": [
      "+-----------------+-----------+-------------------+\n",
      "|       indep_feat|petal_width|         prediction|\n",
      "+-----------------+-----------+-------------------+\n",
      "|[4.6,3.2,1.4,0.0]|        0.2| 0.2413651912128304|\n",
      "|[4.8,3.4,1.9,0.0]|        0.2|0.42312734377000294|\n",
      "|[4.9,3.1,1.5,0.0]|        0.1|0.22033019013628818|\n",
      "|[5.0,3.0,1.6,0.0]|        0.2|0.22011506234048472|\n",
      "|[5.1,3.8,1.6,0.0]|        0.2| 0.3829713904030676|\n",
      "|[5.2,2.7,3.9,1.0]|        1.4| 1.2552501509595837|\n",
      "|[5.4,3.9,1.7,0.0]|        0.4| 0.4052529555022636|\n",
      "|[5.5,2.4,3.8,1.0]|        1.1| 1.1271923998424347|\n",
      "|[5.5,2.5,4.0,1.0]|        1.3| 1.2125568667951727|\n",
      "|[5.5,3.5,1.3,0.0]|        0.2|0.18079751878068007|\n",
      "|[5.5,4.2,1.4,0.0]|        0.2| 0.3642585923281977|\n",
      "|[5.7,2.5,5.0,2.0]|        2.0| 1.8985766095562298|\n",
      "|[5.7,2.8,4.5,1.0]|        1.3| 1.4159773024402145|\n",
      "|[5.8,2.6,4.0,1.0]|        1.2| 1.2029853399619344|\n",
      "|[5.8,2.7,5.1,2.0]|        1.9|  1.963336331024033|\n",
      "|[5.9,3.0,5.1,2.0]|        1.8|  2.017901243647271|\n",
      "|[6.1,3.0,4.6,1.0]|        1.4| 1.4495072139869103|\n",
      "|[6.3,2.8,5.1,2.0]|        1.5| 1.9329449309100561|\n",
      "|[6.3,2.9,5.6,2.0]|        1.8|  2.113868673660098|\n",
      "|[6.3,3.3,4.7,1.0]|        1.6| 1.5255152819022135|\n",
      "+-----------------+-----------+-------------------+\n",
      "only showing top 20 rows\n",
      "\n"
     ]
    }
   ],
   "source": [
    "## Final comparison\n",
    "pred_results.predictions.show()"
   ]
  },
  {
   "cell_type": "code",
   "execution_count": 43,
   "id": "26c96af6",
   "metadata": {},
   "outputs": [
    {
     "data": {
      "text/plain": [
       "(0.9228360224789041, 0.1437329623416767, 0.03791752117633852)"
      ]
     },
     "execution_count": 43,
     "metadata": {},
     "output_type": "execute_result"
    }
   ],
   "source": [
    "### PErformance Metrics\n",
    "pred_results.r2,pred_results.meanAbsoluteError,pred_results.meanSquaredError"
   ]
  },
  {
   "cell_type": "code",
   "execution_count": 44,
   "id": "e413329d",
   "metadata": {},
   "outputs": [],
   "source": [
    "from pyspark.ml.evaluation import RegressionEvaluator\n",
    "evaluator = RegressionEvaluator(predictionCol=\"prediction\", labelCol=\"petal_width\", metricName=\"rmse\")"
   ]
  },
  {
   "cell_type": "code",
   "execution_count": 45,
   "id": "83614946",
   "metadata": {},
   "outputs": [],
   "source": [
    "\n",
    "pred_results=regressor.transform(test_data)\n",
    "\n"
   ]
  },
  {
   "cell_type": "code",
   "execution_count": 46,
   "id": "333d744a",
   "metadata": {},
   "outputs": [],
   "source": [
    "rmse = evaluator.evaluate(pred_results)"
   ]
  },
  {
   "cell_type": "code",
   "execution_count": 47,
   "id": "3d20266e",
   "metadata": {},
   "outputs": [
    {
     "name": "stdout",
     "output_type": "stream",
     "text": [
      "Root Mean Squared Error: 0.19472421825838337\n"
     ]
    }
   ],
   "source": [
    "#RMSE \n",
    "print(\"Root Mean Squared Error:\", rmse)"
   ]
  },
  {
   "cell_type": "code",
   "execution_count": 48,
   "id": "617e0498",
   "metadata": {
    "scrolled": true
   },
   "outputs": [
    {
     "name": "stdout",
     "output_type": "stream",
     "text": [
      "+------------+-----------+------------+-----------+-----------+-------------+\n",
      "|sepal_length|sepal_width|petal_length|petal_width|    species|species_Index|\n",
      "+------------+-----------+------------+-----------+-----------+-------------+\n",
      "|         5.1|        3.5|         1.4|        0.2|Iris-setosa|          0.0|\n",
      "|         4.9|        3.0|         1.4|        0.2|Iris-setosa|          0.0|\n",
      "|         4.7|        3.2|         1.3|        0.2|Iris-setosa|          0.0|\n",
      "|         4.6|        3.1|         1.5|        0.2|Iris-setosa|          0.0|\n",
      "|         5.0|        3.6|         1.4|        0.2|Iris-setosa|          0.0|\n",
      "|         5.4|        3.9|         1.7|        0.4|Iris-setosa|          0.0|\n",
      "|         4.6|        3.4|         1.4|        0.3|Iris-setosa|          0.0|\n",
      "|         5.0|        3.4|         1.5|        0.2|Iris-setosa|          0.0|\n",
      "|         4.4|        2.9|         1.4|        0.2|Iris-setosa|          0.0|\n",
      "|         4.9|        3.1|         1.5|        0.1|Iris-setosa|          0.0|\n",
      "|         5.4|        3.7|         1.5|        0.2|Iris-setosa|          0.0|\n",
      "|         4.8|        3.4|         1.6|        0.2|Iris-setosa|          0.0|\n",
      "|         4.8|        3.0|         1.4|        0.1|Iris-setosa|          0.0|\n",
      "|         4.3|        3.0|         1.1|        0.1|Iris-setosa|          0.0|\n",
      "|         5.8|        4.0|         1.2|        0.2|Iris-setosa|          0.0|\n",
      "|         5.7|        4.4|         1.5|        0.4|Iris-setosa|          0.0|\n",
      "|         5.4|        3.9|         1.3|        0.4|Iris-setosa|          0.0|\n",
      "|         5.1|        3.5|         1.4|        0.3|Iris-setosa|          0.0|\n",
      "|         5.7|        3.8|         1.7|        0.3|Iris-setosa|          0.0|\n",
      "|         5.1|        3.8|         1.5|        0.3|Iris-setosa|          0.0|\n",
      "+------------+-----------+------------+-----------+-----------+-------------+\n",
      "only showing top 20 rows\n",
      "\n"
     ]
    }
   ],
   "source": [
    "df_data.show()"
   ]
  },
  {
   "cell_type": "code",
   "execution_count": 49,
   "id": "ff4d6a09",
   "metadata": {},
   "outputs": [],
   "source": [
    "#pca reduction\n",
    "from pyspark.ml.feature import PCA"
   ]
  },
  {
   "cell_type": "code",
   "execution_count": 50,
   "id": "ca746c77",
   "metadata": {},
   "outputs": [],
   "source": [
    "pca = PCA(k=2, inputCol='indep_feat', outputCol='features_pca')"
   ]
  },
  {
   "cell_type": "code",
   "execution_count": 51,
   "id": "b23063d4",
   "metadata": {},
   "outputs": [],
   "source": [
    "pca_model = pca.fit(final_data)"
   ]
  },
  {
   "cell_type": "code",
   "execution_count": 52,
   "id": "b839289e",
   "metadata": {},
   "outputs": [],
   "source": [
    "pca_data = pca_model.transform(final_data).select('features_pca')"
   ]
  },
  {
   "cell_type": "code",
   "execution_count": 53,
   "id": "235c42da",
   "metadata": {},
   "outputs": [],
   "source": [
    "import numpy as np\n",
    "\n",
    "target = np.array(df_data.select(['petal_width']).collect()).reshape(-1)\n",
    "\n",
    "features = np.array(pca_data.collect()).reshape(-1, 2)"
   ]
  },
  {
   "cell_type": "code",
   "execution_count": 54,
   "id": "8033ea9a",
   "metadata": {},
   "outputs": [
    {
     "data": {
      "image/png": "[encoded data removed]",
      "text/plain": [
       "<Figure size 432x288 with 2 Axes>"
      ]
     },
     "metadata": {
      "needs_background": "light"
     },
     "output_type": "display_data"
    }
   ],
   "source": [
    "import matplotlib.pyplot as plt\n",
    "\n",
    "plt.scatter(features[:, 0], features[:, 1], c=target)\n",
    "plt.colorbar();"
   ]
  },
  {
   "cell_type": "code",
   "execution_count": 55,
   "id": "e05eaf6b",
   "metadata": {},
   "outputs": [],
   "source": [
    "#decision tree\n",
    "\n",
    "from pyspark.ml import Pipeline\n",
    "from pyspark.ml.regression import DecisionTreeRegressor\n",
    "from pyspark.ml.tuning import ParamGridBuilder, CrossValidator\n",
    "from pyspark.ml.evaluation import RegressionEvaluator\n",
    "\n",
    "dt = DecisionTreeRegressor(labelCol='petal_width', featuresCol='indep_feat')\n",
    "\n"
   ]
  },
  {
   "cell_type": "code",
   "execution_count": 56,
   "id": "f7be1dab",
   "metadata": {},
   "outputs": [],
   "source": [
    "#splitting test and train data\n",
    "(train_data, test_data) = final_data .randomSplit([0.7, 0.3])"
   ]
  },
  {
   "cell_type": "code",
   "execution_count": 57,
   "id": "6ef55686",
   "metadata": {},
   "outputs": [],
   "source": [
    "dt = DecisionTreeRegressor(labelCol='petal_width', featuresCol='indep_feat')\n",
    "dt = dt.fit(train_data)#fitting the model"
   ]
  },
  {
   "cell_type": "code",
   "execution_count": 58,
   "id": "ec82d898",
   "metadata": {},
   "outputs": [],
   "source": [
    "pred = dt.transform(test_data)# predicting the output"
   ]
  },
  {
   "cell_type": "code",
   "execution_count": 59,
   "id": "7fa683d5",
   "metadata": {},
   "outputs": [
    {
     "name": "stdout",
     "output_type": "stream",
     "text": [
      "+-------------------+-----------+-----------------+\n",
      "|         prediction|petal_width|       indep_feat|\n",
      "+-------------------+-----------+-----------------+\n",
      "|0.20000000000000004|        0.2|[4.4,2.9,1.4,0.0]|\n",
      "|0.20000000000000004|        0.2|[4.4,3.0,1.3,0.0]|\n",
      "|0.20000000000000004|        0.3|[4.5,2.3,1.3,0.0]|\n",
      "|0.26363636363636367|        0.2|[4.6,3.6,1.0,0.0]|\n",
      "|0.20000000000000004|        0.2|[4.8,3.1,1.6,0.0]|\n",
      "|                0.4|        0.2|[4.8,3.4,1.6,0.0]|\n",
      "|              1.025|        1.0|[4.9,2.4,3.3,1.0]|\n",
      "|0.15000000000000002|        0.1|[4.9,3.1,1.5,0.0]|\n",
      "|0.15000000000000002|        0.1|[4.9,3.1,1.5,0.0]|\n",
      "|              1.025|        1.0|[5.0,2.0,3.5,1.0]|\n",
      "|                0.2|        0.2|[5.0,3.2,1.2,0.0]|\n",
      "|                0.2|        0.5|[5.1,3.3,1.7,0.0]|\n",
      "| 0.3999999999999999|        0.3|[5.1,3.8,1.5,0.0]|\n",
      "|                0.6|        0.2|[5.1,3.8,1.6,0.0]|\n",
      "|0.26363636363636367|        0.2|[5.2,3.4,1.4,0.0]|\n",
      "| 0.3999999999999999|        0.1|[5.2,4.1,1.5,0.0]|\n",
      "|0.26363636363636367|        0.2|[5.3,3.7,1.5,0.0]|\n",
      "| 1.5666666666666667|        1.5|[5.4,3.0,4.5,1.0]|\n",
      "| 0.3666666666666667|        0.2|[5.4,3.4,1.7,0.0]|\n",
      "|0.20000000000000018|        0.2|[5.5,4.2,1.4,0.0]|\n",
      "+-------------------+-----------+-----------------+\n",
      "only showing top 20 rows\n",
      "\n"
     ]
    }
   ],
   "source": [
    "from pyspark.ml.evaluation import RegressionEvaluator\n",
    "pred.select(\"prediction\", \"petal_width\", \"indep_feat\").show()\n"
   ]
  },
  {
   "cell_type": "code",
   "execution_count": 60,
   "id": "95d73215",
   "metadata": {},
   "outputs": [],
   "source": [
    "evaluator = RegressionEvaluator(predictionCol=\"prediction\", labelCol=\"petal_width\", metricName=\"mse\")"
   ]
  },
  {
   "cell_type": "code",
   "execution_count": 61,
   "id": "90d2bd5f",
   "metadata": {},
   "outputs": [],
   "source": [
    "mse = evaluator.evaluate(pred)"
   ]
  },
  {
   "cell_type": "code",
   "execution_count": 62,
   "id": "f91091fd",
   "metadata": {},
   "outputs": [
    {
     "name": "stdout",
     "output_type": "stream",
     "text": [
      " Mean Squared Error (MSE)  = 0.0448906\n"
     ]
    }
   ],
   "source": [
    "print(\" Mean Squared Error (MSE)  = %g\" % mse)"
   ]
  },
  {
   "cell_type": "code",
   "execution_count": 63,
   "id": "1a210e5c",
   "metadata": {},
   "outputs": [],
   "source": [
    "evaluator1 = RegressionEvaluator(predictionCol=\"prediction\", labelCol=\"petal_width\", metricName=\"r2\")"
   ]
  },
  {
   "cell_type": "code",
   "execution_count": 64,
   "id": "b53ce717",
   "metadata": {},
   "outputs": [],
   "source": [
    "rscore = evaluator1.evaluate(pred)"
   ]
  },
  {
   "cell_type": "code",
   "execution_count": 65,
   "id": "f3cb4e51",
   "metadata": {},
   "outputs": [
    {
     "name": "stdout",
     "output_type": "stream",
     "text": [
      " R_Score = 0.921166\n"
     ]
    }
   ],
   "source": [
    "print(\" R_Score = %g\" % rscore)"
   ]
  },
  {
   "cell_type": "code",
   "execution_count": 66,
   "id": "1e23d70e",
   "metadata": {},
   "outputs": [],
   "source": [
    "from pyspark.sql.functions import col\n",
    "from pyspark.ml.tuning import ParamGridBuilder, CrossValidator\n",
    "from pyspark.ml.evaluation import RegressionEvaluator"
   ]
  },
  {
   "cell_type": "code",
   "execution_count": 67,
   "id": "9a86b04b",
   "metadata": {},
   "outputs": [],
   "source": [
    "# Create initial LinearRegression model\n",
    "lr = LinearRegression(labelCol=\"petal_width\", featuresCol='indep_feat')"
   ]
  },
  {
   "cell_type": "code",
   "execution_count": 68,
   "id": "96272783",
   "metadata": {},
   "outputs": [],
   "source": [
    "# Create ParamGrid for Cross Validation\n",
    "lrparamGrid = (ParamGridBuilder()\n",
    "             .addGrid(lr.regParam, [0.001, 0.01, 0.1, 0.5, 1.0, 2.0])\n",
    "             #  .addGrid(lr.regParam, [0.01, 0.1, 0.5])\n",
    "             .addGrid(lr.elasticNetParam, [0.0, 0.25, 0.5, 0.75, 1.0])\n",
    "             #  .addGrid(lr.elasticNetParam, [0.0, 0.5, 1.0])\n",
    "             .addGrid(lr.maxIter, [1, 5, 10, 20, 50])\n",
    "             #  .addGrid(lr.maxIter, [1, 5, 10])\n",
    "             .build())"
   ]
  },
  {
   "cell_type": "code",
   "execution_count": 69,
   "id": "756580eb",
   "metadata": {},
   "outputs": [],
   "source": [
    "# Evaluate model\n",
    "lrevaluator = RegressionEvaluator(predictionCol=\"prediction\", labelCol=\"petal_width\", metricName=\"rmse\")"
   ]
  },
  {
   "cell_type": "code",
   "execution_count": 70,
   "id": "6bf7edc3",
   "metadata": {},
   "outputs": [],
   "source": [
    "# Create 5-fold CrossValidator\n",
    "lrcv = CrossValidator(estimator = lr,\n",
    "                    estimatorParamMaps = lrparamGrid,\n",
    "                    evaluator = lrevaluator,\n",
    "                    numFolds = 5)\n"
   ]
  },
  {
   "cell_type": "code",
   "execution_count": 71,
   "id": "86dee5ba",
   "metadata": {},
   "outputs": [],
   "source": [
    "lr=LinearRegression(featuresCol='indep_feat', labelCol='petal_width')"
   ]
  },
  {
   "cell_type": "code",
   "execution_count": 72,
   "id": "04ff9a87",
   "metadata": {},
   "outputs": [],
   "source": [
    "# Run cross validations\n",
    "lrmodel = lrcv.fit(train_data)"
   ]
  },
  {
   "cell_type": "code",
   "execution_count": 73,
   "id": "bc466fdc",
   "metadata": {},
   "outputs": [],
   "source": [
    "lrpredictions = lrmodel.transform(test_data)"
   ]
  },
  {
   "cell_type": "code",
   "execution_count": 74,
   "id": "d235d465",
   "metadata": {},
   "outputs": [
    {
     "name": "stdout",
     "output_type": "stream",
     "text": [
      "Root Mean Squared Error: 0.18146110494414805\n"
     ]
    }
   ],
   "source": [
    "# Evaluate the predictions\n",
    "rmse =lrevaluator.evaluate(lrpredictions)\n",
    "print(\"Root Mean Squared Error:\", rmse)"
   ]
  },
  {
   "cell_type": "code",
   "execution_count": 75,
   "id": "8d71ec41",
   "metadata": {},
   "outputs": [],
   "source": [
    "from matplotlib import pyplot as plt"
   ]
  },
  {
   "cell_type": "code",
   "execution_count": 76,
   "id": "5ee76250",
   "metadata": {},
   "outputs": [],
   "source": [
    "Linear_Regr= 0.943\n",
    "Decision_Tree= 0.799"
   ]
  },
  {
   "cell_type": "code",
   "execution_count": 77,
   "id": "cec91b02",
   "metadata": {},
   "outputs": [],
   "source": [
    "labels = [\"Linear Regression\", \"Decision Tree\"]"
   ]
  },
  {
   "cell_type": "code",
   "execution_count": 78,
   "id": "7ba91d60",
   "metadata": {},
   "outputs": [],
   "source": [
    "R_score = [Linear_Regr, Decision_Tree]"
   ]
  },
  {
   "cell_type": "code",
   "execution_count": 79,
   "id": "c3f29d53",
   "metadata": {},
   "outputs": [
    {
     "data": {
      "image/png": "[encoded data removed]",
      "text/plain": [
       "<Figure size 432x288 with 1 Axes>"
      ]
     },
     "metadata": {
      "needs_background": "light"
     },
     "output_type": "display_data"
    }
   ],
   "source": [
    "# Create the bar plot\n",
    "plt.bar(labels, R_score, color=[\"blue\", \"red\"])\n",
    "plt.xlabel(\"Model Type\")\n",
    "plt.ylabel(\"R_score\")\n",
    "plt.title(\"R_score Comparison of Linear Regression and Decision Tree Models\")\n",
    "\n",
    "# Show the plot\n",
    "plt.show()"
   ]
  },
  {
   "cell_type": "raw",
   "id": "f84c2305",
   "metadata": {},
   "source": [
    "From th egraph it is seen that Linear Regression has high Rscore. so this model is used for prediction\n"
   ]
  },
  {
   "cell_type": "code",
   "execution_count": 80,
   "id": "2eed0a94",
   "metadata": {},
   "outputs": [
    {
     "name": "stdout",
     "output_type": "stream",
     "text": [
      "+-----------------+-----------+--------------------+\n",
      "|       indep_feat|petal_width|          prediction|\n",
      "+-----------------+-----------+--------------------+\n",
      "|[4.4,2.9,1.4,0.0]|        0.2| 0.24464247130161615|\n",
      "|[4.4,3.0,1.3,0.0]|        0.2|  0.2326494923655132|\n",
      "|[4.5,2.3,1.3,0.0]|        0.3|0.023560728740812206|\n",
      "|[4.6,3.6,1.0,0.0]|        0.2|  0.2330135423583664|\n",
      "|[4.8,3.1,1.6,0.0]|        0.2|  0.2878414011231389|\n",
      "|[4.8,3.4,1.6,0.0]|        0.2|  0.3680509036026501|\n",
      "|[4.9,2.4,3.3,1.0]|        1.0|  1.0466582774902855|\n",
      "|[4.9,3.1,1.5,0.0]|        0.1| 0.22717866352135724|\n",
      "|[4.9,3.1,1.5,0.0]|        0.1| 0.22717866352135724|\n",
      "|[5.0,2.0,3.5,1.0]|        1.0|  0.9952379758703096|\n",
      "|[5.0,3.2,1.2,0.0]|        0.2| 0.11579346722086607|\n",
      "|[5.1,3.3,1.7,0.0]|        0.5| 0.31424410902122907|\n",
      "|[5.1,3.8,1.5,0.0]|        0.3| 0.37046765362853434|\n",
      "|[5.1,3.8,1.6,0.0]|        0.2|  0.4091971333911411|\n",
      "|[5.2,3.4,1.4,0.0]|        0.2|  0.2028589127207377|\n",
      "|[5.2,4.1,1.5,0.0]|        0.1| 0.42874389826887077|\n",
      "|[5.3,3.7,1.5,0.0]|        0.2| 0.29986463712368144|\n",
      "|[5.4,3.0,4.5,1.0]|        1.5|   1.562164750404716|\n",
      "|[5.4,3.4,1.7,0.0]|        0.2|  0.2751808363302087|\n",
      "|[5.5,4.2,1.4,0.0]|        0.2| 0.35095114581524395|\n",
      "+-----------------+-----------+--------------------+\n",
      "only showing top 20 rows\n",
      "\n"
     ]
    }
   ],
   "source": [
    "## Final comparison\n",
    "lrpredictions .show()"
   ]
  }
 ],
 "metadata": {
  "kernelspec": {
   "display_name": "Python 3 (ipykernel)",
   "language": "python",
   "name": "python3"
  },
  "language_info": {
   "codemirror_mode": {
    "name": "ipython",
    "version": 3
   },
   "file_extension": ".py",
   "mimetype": "text/x-python",
   "name": "python",
   "nbconvert_exporter": "python",
   "pygments_lexer": "ipython3",
   "version": "3.9.7"
  }
 },
 "nbformat": 4,
 "nbformat_minor": 5
}
